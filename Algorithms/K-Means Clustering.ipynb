{
 "cells": [
  {
   "cell_type": "code",
   "execution_count": 61,
   "metadata": {},
   "outputs": [
    {
     "name": "stdout",
     "output_type": "stream",
     "text": [
      "[ 0.92461621  0.05301557]\n",
      "0.977631775025\n"
     ]
    },
    {
     "data": {
      "image/png": "[encoded data removed]",
      "text/plain": [
       "<matplotlib.figure.Figure at 0x1b04cd652b0>"
      ]
     },
     "metadata": {},
     "output_type": "display_data"
    },
    {
     "name": "stdout",
     "output_type": "stream",
     "text": [
      "14 150 0.09333333333333334\n"
     ]
    }
   ],
   "source": [
    "from sklearn.datasets import load_iris\n",
    "from sklearn.decomposition import PCA\n",
    "import matplotlib.pylab as plt\n",
    "from numpy import random, array\n",
    "from sklearn.preprocessing import scale\n",
    "from sklearn.cluster import KMeans, MeanShift, DBSCAN, MiniBatchKMeans, AffinityPropagation, SpectralClustering\n",
    "\n",
    "# Get data.\n",
    "bunch = load_iris()\n",
    "data = bunch.data\n",
    "data_scale = scale(data)\n",
    "\n",
    "# Scale data.\n",
    "#print(data[:5])\n",
    "#print(\"********************\")\n",
    "#print(data_scale[:5])\n",
    "\n",
    "\n",
    "# Reduce data to 2D array and sustain variance.\n",
    "pca = PCA(n_components = 2, whiten = True).fit(data)\n",
    "data_pca = pca.transform(data)\n",
    "\n",
    "# Print variance.\n",
    "print(pca.explained_variance_ratio_)\n",
    "print(sum(pca.explained_variance_ratio_))\n",
    "\n",
    "# Create model.\n",
    "model = KMeans(n_clusters = 3)\n",
    "model1 = model.fit(data_pca)\n",
    "model = model.fit_predict(data_pca)\n",
    "\n",
    "#print(model)\n",
    "\n",
    "# Print cluster result.\n",
    "#print(model.labels_)\n",
    "\n",
    "# Get centroids.\n",
    "#centroids = model.cluster_centers_\n",
    "\n",
    "clr = ['r', 'g', 'b']\n",
    "\n",
    "# Plot clusters.\n",
    "plt.figure(figsize = (8, 6))\n",
    "\n",
    "for i, dp in enumerate(data_pca):\n",
    "#plt.scatter(dp[0], dp[1], c = bunch.target[i], label = bunch.target_names[bunch.target[i]])\n",
    "    #plt.scatter(data_pca[:,0], data_pca[:,1], c=model.labels_.astype(float))\n",
    "    \n",
    "    plt.scatter(data_pca[i,0], data_pca[i,1], c = clr[model[i]])\n",
    "\n",
    "    \n",
    "    \n",
    "\n",
    "    \n",
    "# Plot centroids.\n",
    "#for centroid in centroids:\n",
    "#    plt.scatter(centroid[0], centroid[1], marker='x', s=169, c='r')\n",
    "\n",
    "#plt.legend()\n",
    "#plt.scatter(data_pca[80,0], data_pca[80,1], c='y')\n",
    "#plt.xkcd()\n",
    "plt.show()\n",
    "\n",
    "\n",
    "correct = 0\n",
    "total = 0\n",
    "\n",
    "\n",
    "for i, dp in enumerate(data_pca):\n",
    "    \n",
    "    \n",
    "    \n",
    "    #print(dp)\n",
    "    idx = bunch.target[i]\n",
    "    res = model[i]\n",
    "    \n",
    "    total += 1\n",
    "    if idx == res:\n",
    "        correct += 1\n",
    "    \n",
    "    #print(idx, res, idx == res)\n",
    "\n",
    "\n",
    "print(correct, total, correct / total)\n",
    "\n",
    "#print(\"IRIS:\", bunch.target[80])\n",
    "#print(\"KMEANS:\", model.labels_[80])\n",
    "\n",
    "\n"
   ]
  }
 ],
 "metadata": {
  "kernelspec": {
   "display_name": "Python 3",
   "language": "python",
   "name": "python3"
  },
  "language_info": {
   "codemirror_mode": {
    "name": "ipython",
    "version": 3
   },
   "file_extension": ".py",
   "mimetype": "text/x-python",
   "name": "python",
   "nbconvert_exporter": "python",
   "pygments_lexer": "ipython3",
   "version": "3.6.1"
  }
 },
 "nbformat": 4,
 "nbformat_minor": 2
}
