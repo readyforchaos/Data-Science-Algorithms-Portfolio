{
 "cells": [
  {
   "cell_type": "code",
   "execution_count": 18,
   "metadata": {},
   "outputs": [],
   "source": [
    "import lightgbm as lgb\n",
    "import pandas as pd\n",
    "from sklearn.metrics import mean_squared_error"
   ]
  },
  {
   "cell_type": "code",
   "execution_count": 19,
   "metadata": {},
   "outputs": [
    {
     "name": "stdout",
     "output_type": "stream",
     "text": [
      "Loading data...\n"
     ]
    }
   ],
   "source": [
    "print('Loading data...')\n",
    "# load or create your dataset\n",
    "df_train = pd.read_csv('data/regression.train', header=None, sep='\\t')\n",
    "df_test = pd.read_csv('data/regression.test', header=None, sep='\\t')"
   ]
  },
  {
   "cell_type": "code",
   "execution_count": 20,
   "metadata": {},
   "outputs": [],
   "source": [
    "y_train = df_train[0]\n",
    "y_test = df_test[0]\n",
    "X_train = df_train.drop(0, axis=1)\n",
    "X_test = df_test.drop(0, axis=1)"
   ]
  },
  {
   "cell_type": "code",
   "execution_count": 21,
   "metadata": {},
   "outputs": [
    {
     "data": {
      "text/html": [
       "<div>\n",
       "<style scoped>\n",
       "    .dataframe tbody tr th:only-of-type {\n",
       "        vertical-align: middle;\n",
       "    }\n",
       "\n",
       "    .dataframe tbody tr th {\n",
       "        vertical-align: top;\n",
       "    }\n",
       "\n",
       "    .dataframe thead th {\n",
       "        text-align: right;\n",
       "    }\n",
       "</style>\n",
       "<table border=\"1\" class=\"dataframe\">\n",
       "  <thead>\n",
       "    <tr style=\"text-align: right;\">\n",
       "      <th></th>\n",
       "      <th>1</th>\n",
       "      <th>2</th>\n",
       "      <th>3</th>\n",
       "      <th>4</th>\n",
       "      <th>5</th>\n",
       "      <th>6</th>\n",
       "      <th>7</th>\n",
       "      <th>8</th>\n",
       "      <th>9</th>\n",
       "      <th>10</th>\n",
       "      <th>...</th>\n",
       "      <th>19</th>\n",
       "      <th>20</th>\n",
       "      <th>21</th>\n",
       "      <th>22</th>\n",
       "      <th>23</th>\n",
       "      <th>24</th>\n",
       "      <th>25</th>\n",
       "      <th>26</th>\n",
       "      <th>27</th>\n",
       "      <th>28</th>\n",
       "    </tr>\n",
       "  </thead>\n",
       "  <tbody>\n",
       "    <tr>\n",
       "      <th>0</th>\n",
       "      <td>0.644</td>\n",
       "      <td>0.247</td>\n",
       "      <td>-0.447</td>\n",
       "      <td>0.862</td>\n",
       "      <td>0.374</td>\n",
       "      <td>0.854</td>\n",
       "      <td>-1.126</td>\n",
       "      <td>-0.790</td>\n",
       "      <td>2.173</td>\n",
       "      <td>1.015</td>\n",
       "      <td>...</td>\n",
       "      <td>-0.190</td>\n",
       "      <td>-0.744</td>\n",
       "      <td>3.102</td>\n",
       "      <td>0.958</td>\n",
       "      <td>1.061</td>\n",
       "      <td>0.980</td>\n",
       "      <td>0.875</td>\n",
       "      <td>0.581</td>\n",
       "      <td>0.905</td>\n",
       "      <td>0.796</td>\n",
       "    </tr>\n",
       "    <tr>\n",
       "      <th>1</th>\n",
       "      <td>0.385</td>\n",
       "      <td>1.800</td>\n",
       "      <td>1.037</td>\n",
       "      <td>1.044</td>\n",
       "      <td>0.349</td>\n",
       "      <td>1.502</td>\n",
       "      <td>-0.966</td>\n",
       "      <td>1.734</td>\n",
       "      <td>0.000</td>\n",
       "      <td>0.966</td>\n",
       "      <td>...</td>\n",
       "      <td>-0.440</td>\n",
       "      <td>0.638</td>\n",
       "      <td>3.102</td>\n",
       "      <td>0.695</td>\n",
       "      <td>0.909</td>\n",
       "      <td>0.981</td>\n",
       "      <td>0.803</td>\n",
       "      <td>0.813</td>\n",
       "      <td>1.149</td>\n",
       "      <td>1.116</td>\n",
       "    </tr>\n",
       "    <tr>\n",
       "      <th>2</th>\n",
       "      <td>1.214</td>\n",
       "      <td>-0.166</td>\n",
       "      <td>0.004</td>\n",
       "      <td>0.505</td>\n",
       "      <td>1.434</td>\n",
       "      <td>0.628</td>\n",
       "      <td>-1.174</td>\n",
       "      <td>-1.230</td>\n",
       "      <td>1.087</td>\n",
       "      <td>0.579</td>\n",
       "      <td>...</td>\n",
       "      <td>-1.383</td>\n",
       "      <td>1.355</td>\n",
       "      <td>0.000</td>\n",
       "      <td>0.848</td>\n",
       "      <td>0.911</td>\n",
       "      <td>1.043</td>\n",
       "      <td>0.931</td>\n",
       "      <td>1.058</td>\n",
       "      <td>0.744</td>\n",
       "      <td>0.696</td>\n",
       "    </tr>\n",
       "  </tbody>\n",
       "</table>\n",
       "<p>3 rows × 28 columns</p>\n",
       "</div>"
      ],
      "text/plain": [
       "      1      2      3      4      5      6      7      8      9      10  ...  \\\n",
       "0  0.644  0.247 -0.447  0.862  0.374  0.854 -1.126 -0.790  2.173  1.015  ...   \n",
       "1  0.385  1.800  1.037  1.044  0.349  1.502 -0.966  1.734  0.000  0.966  ...   \n",
       "2  1.214 -0.166  0.004  0.505  1.434  0.628 -1.174 -1.230  1.087  0.579  ...   \n",
       "\n",
       "      19     20     21     22     23     24     25     26     27     28  \n",
       "0 -0.190 -0.744  3.102  0.958  1.061  0.980  0.875  0.581  0.905  0.796  \n",
       "1 -0.440  0.638  3.102  0.695  0.909  0.981  0.803  0.813  1.149  1.116  \n",
       "2 -1.383  1.355  0.000  0.848  0.911  1.043  0.931  1.058  0.744  0.696  \n",
       "\n",
       "[3 rows x 28 columns]"
      ]
     },
     "execution_count": 21,
     "metadata": {},
     "output_type": "execute_result"
    }
   ],
   "source": [
    "X_test.head(3)"
   ]
  },
  {
   "cell_type": "code",
   "execution_count": 22,
   "metadata": {},
   "outputs": [
    {
     "name": "stdout",
     "output_type": "stream",
     "text": [
      "Shape y_train:  (7000,)\n",
      "Shape y_test: (500,)\n",
      "Shape x_train:  (7000, 28)\n",
      "Shape x_test: (500, 28)\n"
     ]
    }
   ],
   "source": [
    "print(\"Shape y_train: \",y_train.shape)\n",
    "print(\"Shape y_test: {}\".format(y_test.shape))\n",
    "print(\"Shape x_train: \",X_train.shape)\n",
    "print(\"Shape x_test: {}\".format(X_test.shape))"
   ]
  },
  {
   "cell_type": "code",
   "execution_count": 23,
   "metadata": {},
   "outputs": [],
   "source": [
    "lgb_train = lgb.Dataset(X_train, y_train)\n",
    "lgb_eval = lgb.Dataset(X_test, y_test, reference=lgb_train)"
   ]
  },
  {
   "cell_type": "code",
   "execution_count": 31,
   "metadata": {},
   "outputs": [],
   "source": [
    "params = {\n",
    "    \"boosting_type\":\"gbdt\",\n",
    "    \"objective\":\"regression\",\n",
    "    \"metric\":{\"l2\",\"l1\"},\n",
    "    \"num_leaves\":10,\n",
    "    \"learning_rate\":0.05,\n",
    "    \"feature_fraction\":0.9,\n",
    "    \"bagging_fraction\":0.8,\n",
    "    \"bagging_freq\":5,\n",
    "    \"verbose\":1\n",
    "    \n",
    "}"
   ]
  },
  {
   "cell_type": "code",
   "execution_count": 32,
   "metadata": {},
   "outputs": [
    {
     "name": "stdout",
     "output_type": "stream",
     "text": [
      "Starting training...\n",
      "[1]\tvalid_0's l1: 0.493203\tvalid_0's l2: 0.244226\n",
      "Training until validation scores don't improve for 5 rounds.\n",
      "[2]\tvalid_0's l1: 0.489957\tvalid_0's l2: 0.241163\n",
      "[3]\tvalid_0's l1: 0.486727\tvalid_0's l2: 0.238137\n",
      "[4]\tvalid_0's l1: 0.483169\tvalid_0's l2: 0.234972\n",
      "[5]\tvalid_0's l1: 0.480059\tvalid_0's l2: 0.232328\n",
      "[6]\tvalid_0's l1: 0.47721\tvalid_0's l2: 0.230007\n",
      "[7]\tvalid_0's l1: 0.474536\tvalid_0's l2: 0.227737\n",
      "[8]\tvalid_0's l1: 0.471893\tvalid_0's l2: 0.225744\n",
      "[9]\tvalid_0's l1: 0.469036\tvalid_0's l2: 0.223613\n",
      "[10]\tvalid_0's l1: 0.466559\tvalid_0's l2: 0.221777\n",
      "[11]\tvalid_0's l1: 0.46379\tvalid_0's l2: 0.219774\n",
      "[12]\tvalid_0's l1: 0.461196\tvalid_0's l2: 0.218023\n",
      "[13]\tvalid_0's l1: 0.458734\tvalid_0's l2: 0.216418\n",
      "[14]\tvalid_0's l1: 0.456645\tvalid_0's l2: 0.215162\n",
      "[15]\tvalid_0's l1: 0.454152\tvalid_0's l2: 0.213573\n",
      "[16]\tvalid_0's l1: 0.452468\tvalid_0's l2: 0.212506\n",
      "[17]\tvalid_0's l1: 0.450711\tvalid_0's l2: 0.211434\n",
      "[18]\tvalid_0's l1: 0.448619\tvalid_0's l2: 0.209926\n",
      "[19]\tvalid_0's l1: 0.446375\tvalid_0's l2: 0.208541\n",
      "[20]\tvalid_0's l1: 0.444516\tvalid_0's l2: 0.20755\n",
      "[21]\tvalid_0's l1: 0.442701\tvalid_0's l2: 0.206464\n",
      "[22]\tvalid_0's l1: 0.440601\tvalid_0's l2: 0.205224\n",
      "[23]\tvalid_0's l1: 0.438983\tvalid_0's l2: 0.204341\n",
      "[24]\tvalid_0's l1: 0.437429\tvalid_0's l2: 0.203608\n",
      "[25]\tvalid_0's l1: 0.435788\tvalid_0's l2: 0.202578\n",
      "[26]\tvalid_0's l1: 0.434331\tvalid_0's l2: 0.201808\n",
      "[27]\tvalid_0's l1: 0.432694\tvalid_0's l2: 0.200913\n",
      "[28]\tvalid_0's l1: 0.431052\tvalid_0's l2: 0.2\n",
      "[29]\tvalid_0's l1: 0.429857\tvalid_0's l2: 0.19945\n",
      "[30]\tvalid_0's l1: 0.428261\tvalid_0's l2: 0.19864\n",
      "[31]\tvalid_0's l1: 0.426326\tvalid_0's l2: 0.197522\n",
      "[32]\tvalid_0's l1: 0.424634\tvalid_0's l2: 0.196584\n",
      "[33]\tvalid_0's l1: 0.423062\tvalid_0's l2: 0.195666\n",
      "[34]\tvalid_0's l1: 0.421685\tvalid_0's l2: 0.19492\n",
      "[35]\tvalid_0's l1: 0.420525\tvalid_0's l2: 0.194439\n",
      "[36]\tvalid_0's l1: 0.419102\tvalid_0's l2: 0.193659\n",
      "[37]\tvalid_0's l1: 0.417672\tvalid_0's l2: 0.192829\n",
      "[38]\tvalid_0's l1: 0.41645\tvalid_0's l2: 0.192165\n",
      "[39]\tvalid_0's l1: 0.415389\tvalid_0's l2: 0.191589\n",
      "[40]\tvalid_0's l1: 0.414095\tvalid_0's l2: 0.191027\n",
      "[41]\tvalid_0's l1: 0.413238\tvalid_0's l2: 0.190705\n",
      "[42]\tvalid_0's l1: 0.412384\tvalid_0's l2: 0.190257\n",
      "[43]\tvalid_0's l1: 0.411406\tvalid_0's l2: 0.189823\n",
      "[44]\tvalid_0's l1: 0.410682\tvalid_0's l2: 0.189506\n",
      "[45]\tvalid_0's l1: 0.409647\tvalid_0's l2: 0.18883\n",
      "[46]\tvalid_0's l1: 0.408999\tvalid_0's l2: 0.188521\n",
      "[47]\tvalid_0's l1: 0.40834\tvalid_0's l2: 0.188167\n",
      "[48]\tvalid_0's l1: 0.407465\tvalid_0's l2: 0.187803\n",
      "[49]\tvalid_0's l1: 0.406536\tvalid_0's l2: 0.187336\n",
      "[50]\tvalid_0's l1: 0.405751\tvalid_0's l2: 0.187083\n",
      "[51]\tvalid_0's l1: 0.405021\tvalid_0's l2: 0.186734\n",
      "[52]\tvalid_0's l1: 0.404175\tvalid_0's l2: 0.186381\n",
      "[53]\tvalid_0's l1: 0.40374\tvalid_0's l2: 0.186205\n",
      "[54]\tvalid_0's l1: 0.403221\tvalid_0's l2: 0.185998\n",
      "[55]\tvalid_0's l1: 0.402509\tvalid_0's l2: 0.185712\n",
      "[56]\tvalid_0's l1: 0.401616\tvalid_0's l2: 0.185247\n",
      "[57]\tvalid_0's l1: 0.401456\tvalid_0's l2: 0.185195\n",
      "[58]\tvalid_0's l1: 0.400913\tvalid_0's l2: 0.184884\n",
      "[59]\tvalid_0's l1: 0.400111\tvalid_0's l2: 0.184598\n",
      "[60]\tvalid_0's l1: 0.399687\tvalid_0's l2: 0.184377\n",
      "[61]\tvalid_0's l1: 0.398682\tvalid_0's l2: 0.183988\n",
      "[62]\tvalid_0's l1: 0.397948\tvalid_0's l2: 0.183617\n",
      "[63]\tvalid_0's l1: 0.39749\tvalid_0's l2: 0.18345\n",
      "[64]\tvalid_0's l1: 0.396684\tvalid_0's l2: 0.183083\n",
      "[65]\tvalid_0's l1: 0.396364\tvalid_0's l2: 0.183081\n",
      "[66]\tvalid_0's l1: 0.395784\tvalid_0's l2: 0.182798\n",
      "[67]\tvalid_0's l1: 0.395232\tvalid_0's l2: 0.182516\n",
      "[68]\tvalid_0's l1: 0.394692\tvalid_0's l2: 0.182291\n",
      "[69]\tvalid_0's l1: 0.394516\tvalid_0's l2: 0.182248\n",
      "[70]\tvalid_0's l1: 0.394288\tvalid_0's l2: 0.18211\n",
      "[71]\tvalid_0's l1: 0.393465\tvalid_0's l2: 0.181661\n",
      "[72]\tvalid_0's l1: 0.392922\tvalid_0's l2: 0.181381\n",
      "[73]\tvalid_0's l1: 0.392565\tvalid_0's l2: 0.181185\n",
      "[74]\tvalid_0's l1: 0.392379\tvalid_0's l2: 0.181084\n",
      "[75]\tvalid_0's l1: 0.392061\tvalid_0's l2: 0.180924\n",
      "[76]\tvalid_0's l1: 0.391623\tvalid_0's l2: 0.180673\n",
      "[77]\tvalid_0's l1: 0.391321\tvalid_0's l2: 0.180503\n",
      "[78]\tvalid_0's l1: 0.391178\tvalid_0's l2: 0.180443\n",
      "[79]\tvalid_0's l1: 0.390821\tvalid_0's l2: 0.180217\n",
      "[80]\tvalid_0's l1: 0.390372\tvalid_0's l2: 0.179977\n",
      "[81]\tvalid_0's l1: 0.389926\tvalid_0's l2: 0.179859\n",
      "[82]\tvalid_0's l1: 0.389484\tvalid_0's l2: 0.17977\n",
      "[83]\tvalid_0's l1: 0.389235\tvalid_0's l2: 0.179553\n",
      "[84]\tvalid_0's l1: 0.388762\tvalid_0's l2: 0.179354\n",
      "[85]\tvalid_0's l1: 0.388366\tvalid_0's l2: 0.179369\n",
      "[86]\tvalid_0's l1: 0.387757\tvalid_0's l2: 0.179136\n",
      "[87]\tvalid_0's l1: 0.387277\tvalid_0's l2: 0.178914\n",
      "[88]\tvalid_0's l1: 0.386919\tvalid_0's l2: 0.178759\n",
      "[89]\tvalid_0's l1: 0.386713\tvalid_0's l2: 0.178662\n",
      "[90]\tvalid_0's l1: 0.386494\tvalid_0's l2: 0.178514\n",
      "[91]\tvalid_0's l1: 0.386029\tvalid_0's l2: 0.178188\n",
      "[92]\tvalid_0's l1: 0.385722\tvalid_0's l2: 0.178051\n",
      "[93]\tvalid_0's l1: 0.385564\tvalid_0's l2: 0.178055\n",
      "[94]\tvalid_0's l1: 0.385385\tvalid_0's l2: 0.178026\n",
      "[95]\tvalid_0's l1: 0.385115\tvalid_0's l2: 0.177879\n",
      "[96]\tvalid_0's l1: 0.38473\tvalid_0's l2: 0.177762\n",
      "[97]\tvalid_0's l1: 0.384579\tvalid_0's l2: 0.17772\n",
      "[98]\tvalid_0's l1: 0.384353\tvalid_0's l2: 0.177643\n",
      "[99]\tvalid_0's l1: 0.384136\tvalid_0's l2: 0.177536\n",
      "[100]\tvalid_0's l1: 0.384151\tvalid_0's l2: 0.177496\n",
      "Did not meet early stopping. Best iteration is:\n",
      "[99]\tvalid_0's l1: 0.384136\tvalid_0's l2: 0.177536\n",
      "Saving model\n"
     ]
    },
    {
     "data": {
      "text/plain": [
       "<lightgbm.basic.Booster at 0x1a30e0f4be0>"
      ]
     },
     "execution_count": 32,
     "metadata": {},
     "output_type": "execute_result"
    }
   ],
   "source": [
    "print('Starting training...')\n",
    "# train\n",
    "gbm = lgb.train(params,\n",
    "               lgb_train,\n",
    "               num_boost_round=100,\n",
    "               valid_sets=lgb_eval,\n",
    "               early_stopping_rounds=5)\n",
    "\n",
    "print(\"Saving model\")\n",
    "gbm.save_model(\"model.txt\")\n"
   ]
  },
  {
   "cell_type": "code",
   "execution_count": 33,
   "metadata": {},
   "outputs": [
    {
     "name": "stdout",
     "output_type": "stream",
     "text": [
      "Predict\n"
     ]
    }
   ],
   "source": [
    "print(\"Predict\")\n",
    "y_pred = gbm.predict(X_test, num_iteration=gbm.best_iteration)"
   ]
  },
  {
   "cell_type": "code",
   "execution_count": 34,
   "metadata": {},
   "outputs": [
    {
     "name": "stdout",
     "output_type": "stream",
     "text": [
      "The RMSE of prediction is: 0.4213506579706491\n"
     ]
    }
   ],
   "source": [
    "#eval\n",
    "print(\"The RMSE of prediction is: {}\".format(mean_squared_error(y_test, y_pred)**0.5))"
   ]
  }
 ],
 "metadata": {
  "kernelspec": {
   "display_name": "Python 3",
   "language": "python",
   "name": "python3"
  },
  "language_info": {
   "codemirror_mode": {
    "name": "ipython",
    "version": 3
   },
   "file_extension": ".py",
   "mimetype": "text/x-python",
   "name": "python",
   "nbconvert_exporter": "python",
   "pygments_lexer": "ipython3",
   "version": "3.6.8"
  }
 },
 "nbformat": 4,
 "nbformat_minor": 2
}
