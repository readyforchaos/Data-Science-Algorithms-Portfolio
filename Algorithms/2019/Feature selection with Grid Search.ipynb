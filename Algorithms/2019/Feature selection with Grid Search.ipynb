{
 "cells": [
  {
   "cell_type": "markdown",
   "metadata": {},
   "source": [
    "# Importance of features"
   ]
  },
  {
   "cell_type": "code",
   "execution_count": 2,
   "metadata": {},
   "outputs": [
    {
     "data": {
      "text/plain": [
       "(100, 20)"
      ]
     },
     "execution_count": 2,
     "metadata": {},
     "output_type": "execute_result"
    }
   ],
   "source": [
    "from sklearn.feature_selection import VarianceThreshold\n",
    "from sklearn.datasets import make_classification\n",
    "\n",
    "x_data_generated, y_data_generated = make_classification()\n",
    "x_data_generated.shape"
   ]
  },
  {
   "cell_type": "code",
   "execution_count": 17,
   "metadata": {},
   "outputs": [
    {
     "data": {
      "text/plain": [
       "array([[ 1.34793915,  1.34259015,  1.16845447, ...,  0.53151904,\n",
       "         1.39887731, -0.31297436],\n",
       "       [-2.33777249, -0.70077721, -1.39820784, ..., -0.4780427 ,\n",
       "         0.77924417, -1.36335541],\n",
       "       [-0.05809792, -1.41985548, -0.28210733, ...,  1.74307962,\n",
       "         0.10511891, -1.66012329],\n",
       "       ..., \n",
       "       [ 0.61067974, -0.11910972,  0.62508341, ..., -2.1158184 ,\n",
       "        -0.30088853, -0.24810091],\n",
       "       [-0.79704326, -0.17195651, -0.83610533, ..., -1.09960286,\n",
       "        -0.65877379, -1.25722951],\n",
       "       [-0.14186409, -0.0334284 , -0.02995202, ..., -0.73775394,\n",
       "        -1.1258902 ,  1.71525909]])"
      ]
     },
     "execution_count": 17,
     "metadata": {},
     "output_type": "execute_result"
    }
   ],
   "source": [
    "x_data_generated"
   ]
  },
  {
   "cell_type": "code",
   "execution_count": 3,
   "metadata": {},
   "outputs": [
    {
     "data": {
      "text/plain": [
       "(100, 20)"
      ]
     },
     "execution_count": 3,
     "metadata": {},
     "output_type": "execute_result"
    }
   ],
   "source": [
    "VarianceThreshold(.7).fit_transform(x_data_generated).shape"
   ]
  },
  {
   "cell_type": "code",
   "execution_count": 4,
   "metadata": {},
   "outputs": [
    {
     "data": {
      "text/plain": [
       "(100, 15)"
      ]
     },
     "execution_count": 4,
     "metadata": {},
     "output_type": "execute_result"
    }
   ],
   "source": [
    "VarianceThreshold(.8).fit_transform(x_data_generated).shape"
   ]
  },
  {
   "cell_type": "code",
   "execution_count": 5,
   "metadata": {},
   "outputs": [
    {
     "data": {
      "text/plain": [
       "(100, 11)"
      ]
     },
     "execution_count": 5,
     "metadata": {},
     "output_type": "execute_result"
    }
   ],
   "source": [
    "VarianceThreshold(.9).fit_transform(x_data_generated).shape"
   ]
  },
  {
   "cell_type": "code",
   "execution_count": 6,
   "metadata": {},
   "outputs": [],
   "source": [
    "from sklearn.feature_selection import SelectKBest, f_classif\n",
    "from sklearn.linear_model import LogisticRegression\n",
    "from sklearn.model_selection import cross_val_score\n",
    "\n",
    "x_data_kbest = SelectKBest(f_classif, k=5).fit_transform(x_data_generated, y_data_generated)\n",
    "x_data_varth = VarianceThreshold(.9).fit_transform(x_data_generated)"
   ]
  },
  {
   "cell_type": "code",
   "execution_count": 7,
   "metadata": {},
   "outputs": [],
   "source": [
    "logit = LogisticRegression(solver='lbfgs', random_state=17)"
   ]
  },
  {
   "cell_type": "code",
   "execution_count": 8,
   "metadata": {},
   "outputs": [
    {
     "data": {
      "text/plain": [
       "-0.46766120599809791"
      ]
     },
     "execution_count": 8,
     "metadata": {},
     "output_type": "execute_result"
    }
   ],
   "source": [
    "cross_val_score(logit, x_data_generated, y_data_generated, \n",
    "                scoring='neg_log_loss', cv=5).mean()"
   ]
  },
  {
   "cell_type": "code",
   "execution_count": 9,
   "metadata": {},
   "outputs": [
    {
     "data": {
      "text/plain": [
       "-0.33649662605524971"
      ]
     },
     "execution_count": 9,
     "metadata": {},
     "output_type": "execute_result"
    }
   ],
   "source": [
    "cross_val_score(logit, x_data_kbest, y_data_generated, \n",
    "                scoring='neg_log_loss', cv=5).mean()"
   ]
  },
  {
   "cell_type": "code",
   "execution_count": 10,
   "metadata": {},
   "outputs": [
    {
     "data": {
      "text/plain": [
       "-0.40040131482579"
      ]
     },
     "execution_count": 10,
     "metadata": {},
     "output_type": "execute_result"
    }
   ],
   "source": [
    "cross_val_score(logit, x_data_varth, y_data_generated, \n",
    "                scoring='neg_log_loss', cv=5).mean()"
   ]
  },
  {
   "cell_type": "markdown",
   "metadata": {},
   "source": [
    "# Selection by Modeling"
   ]
  },
  {
   "cell_type": "code",
   "execution_count": 11,
   "metadata": {},
   "outputs": [
    {
     "name": "stdout",
     "output_type": "stream",
     "text": [
      "-0.373226313776\n",
      "-0.671146525851\n",
      "-0.293887045943\n"
     ]
    }
   ],
   "source": [
    "# Synthetic example\n",
    "\n",
    "from sklearn.datasets import make_classification\n",
    "from sklearn.ensemble import RandomForestClassifier\n",
    "from sklearn.feature_selection import SelectFromModel\n",
    "from sklearn.model_selection import cross_val_score\n",
    "from sklearn.pipeline import make_pipeline\n",
    "\n",
    "x_data_generated, y_data_generated = make_classification()\n",
    "\n",
    "rf = RandomForestClassifier(n_estimators=10, random_state=17)\n",
    "pipe = make_pipeline(SelectFromModel(estimator=rf), logit)\n",
    "\n",
    "print(cross_val_score(logit, x_data_generated, y_data_generated, \n",
    "                      scoring='neg_log_loss', cv=5).mean())\n",
    "print(cross_val_score(rf, x_data_generated, y_data_generated, \n",
    "                      scoring='neg_log_loss', cv=5).mean())\n",
    "print(cross_val_score(pipe, x_data_generated, y_data_generated, \n",
    "                      scoring='neg_log_loss', cv=5).mean())"
   ]
  },
  {
   "cell_type": "code",
   "execution_count": 12,
   "metadata": {},
   "outputs": [
    {
     "name": "stdout",
     "output_type": "stream",
     "text": [
      "LR + selection:  -0.296954216937\n",
      "LR:  -0.374785725048\n",
      "RF:  -0.671146525851\n"
     ]
    }
   ],
   "source": [
    "from sklearn.preprocessing import StandardScaler\n",
    "#x_data, y_data = get_data() \n",
    "x_data = x_data_generated\n",
    "y_data = y_data_generated\n",
    "\n",
    "pipe1 = make_pipeline(StandardScaler(), \n",
    "                      SelectFromModel(estimator=rf), logit)\n",
    "\n",
    "pipe2 = make_pipeline(StandardScaler(), logit)\n",
    "\n",
    "print('LR + selection: ', cross_val_score(pipe1, x_data, y_data, \n",
    "                                          scoring='neg_log_loss', cv=5).mean())\n",
    "print('LR: ', cross_val_score(pipe2, x_data, y_data, \n",
    "                              scoring='neg_log_loss', cv=5).mean())\n",
    "print('RF: ', cross_val_score(rf, x_data, y_data, \n",
    "                              scoring='neg_log_loss', cv=5).mean())"
   ]
  },
  {
   "cell_type": "markdown",
   "metadata": {},
   "source": [
    "# Selection by Grid Search"
   ]
  },
  {
   "cell_type": "code",
   "execution_count": 13,
   "metadata": {},
   "outputs": [
    {
     "name": "stderr",
     "output_type": "stream",
     "text": [
      "[Parallel(n_jobs=-1)]: Done   8 out of  20 | elapsed:    2.2s remaining:    3.3s\n",
      "[Parallel(n_jobs=-1)]: Done  20 out of  20 | elapsed:    3.0s finished\n",
      "\n",
      "[2019-07-02 20:26:14] Features: 19/3 -- score: -0.340573304272[Parallel(n_jobs=-1)]: Done   6 out of  19 | elapsed:    1.8s remaining:    4.0s\n",
      "[Parallel(n_jobs=-1)]: Done  16 out of  19 | elapsed:    3.0s remaining:    0.5s\n",
      "[Parallel(n_jobs=-1)]: Done  19 out of  19 | elapsed:    3.0s finished\n",
      "\n",
      "[2019-07-02 20:26:17] Features: 18/3 -- score: -0.311905426986[Parallel(n_jobs=-1)]: Done   5 out of  18 | elapsed:    1.6s remaining:    4.3s\n",
      "[Parallel(n_jobs=-1)]: Done  15 out of  18 | elapsed:    2.9s remaining:    0.5s\n",
      "[Parallel(n_jobs=-1)]: Done  18 out of  18 | elapsed:    2.9s finished\n",
      "\n",
      "[2019-07-02 20:26:20] Features: 17/3 -- score: -0.290231558596[Parallel(n_jobs=-1)]: Done   3 out of  17 | elapsed:    1.3s remaining:    6.7s\n",
      "[Parallel(n_jobs=-1)]: Done  12 out of  17 | elapsed:    3.1s remaining:    1.2s\n",
      "[Parallel(n_jobs=-1)]: Done  17 out of  17 | elapsed:    3.1s finished\n",
      "\n",
      "[2019-07-02 20:26:24] Features: 16/3 -- score: -0.277121854736[Parallel(n_jobs=-1)]: Done   2 out of  16 | elapsed:    1.1s remaining:    8.3s\n",
      "[Parallel(n_jobs=-1)]: Done  11 out of  16 | elapsed:    2.8s remaining:    1.2s\n",
      "[Parallel(n_jobs=-1)]: Done  16 out of  16 | elapsed:    3.0s finished\n",
      "\n",
      "[2019-07-02 20:26:27] Features: 15/3 -- score: -0.266800543438[Parallel(n_jobs=-1)]: Done   8 out of  15 | elapsed:    2.2s remaining:    1.9s\n",
      "[Parallel(n_jobs=-1)]: Done  15 out of  15 | elapsed:    3.0s finished\n",
      "\n",
      "[2019-07-02 20:26:30] Features: 14/3 -- score: -0.256081160355[Parallel(n_jobs=-1)]: Done   7 out of  14 | elapsed:    2.1s remaining:    2.1s\n",
      "[Parallel(n_jobs=-1)]: Done  14 out of  14 | elapsed:    3.1s finished\n",
      "\n",
      "[2019-07-02 20:26:34] Features: 13/3 -- score: -0.247366208499[Parallel(n_jobs=-1)]: Done   4 out of  13 | elapsed:    1.5s remaining:    3.6s\n",
      "[Parallel(n_jobs=-1)]: Done  11 out of  13 | elapsed:    2.9s remaining:    0.4s\n",
      "[Parallel(n_jobs=-1)]: Done  13 out of  13 | elapsed:    3.1s finished\n",
      "\n",
      "[2019-07-02 20:26:37] Features: 12/3 -- score: -0.239321506519[Parallel(n_jobs=-1)]: Done   3 out of  12 | elapsed:    1.5s remaining:    4.7s\n",
      "[Parallel(n_jobs=-1)]: Done  10 out of  12 | elapsed:    3.0s remaining:    0.5s\n",
      "[Parallel(n_jobs=-1)]: Done  12 out of  12 | elapsed:    3.4s finished\n",
      "\n",
      "[2019-07-02 20:26:41] Features: 11/3 -- score: -0.230676459616[Parallel(n_jobs=-1)]: Done   6 out of  11 | elapsed:    2.2s remaining:    1.8s\n",
      "[Parallel(n_jobs=-1)]: Done  11 out of  11 | elapsed:    3.3s finished\n",
      "\n",
      "[2019-07-02 20:26:44] Features: 10/3 -- score: -0.225076866001[Parallel(n_jobs=-1)]: Done   5 out of  10 | elapsed:    1.9s remaining:    1.9s\n",
      "[Parallel(n_jobs=-1)]: Done  10 out of  10 | elapsed:    2.9s finished\n",
      "\n",
      "[2019-07-02 20:26:48] Features: 9/3 -- score: -0.22416341449[Parallel(n_jobs=-1)]: Done   6 out of   9 | elapsed:    2.1s remaining:    1.0s\n",
      "[Parallel(n_jobs=-1)]: Done   9 out of   9 | elapsed:    2.8s finished\n",
      "\n",
      "[2019-07-02 20:26:51] Features: 8/3 -- score: -0.224005208637[Parallel(n_jobs=-1)]: Done   5 out of   8 | elapsed:    1.9s remaining:    1.1s\n",
      "[Parallel(n_jobs=-1)]: Done   8 out of   8 | elapsed:    2.5s finished\n",
      "\n",
      "[2019-07-02 20:26:54] Features: 7/3 -- score: -0.224329472132[Parallel(n_jobs=-1)]: Done   4 out of   7 | elapsed:    1.7s remaining:    1.2s\n",
      "[Parallel(n_jobs=-1)]: Done   7 out of   7 | elapsed:    2.3s finished\n",
      "\n",
      "[2019-07-02 20:26:56] Features: 6/3 -- score: -0.227029573335[Parallel(n_jobs=-1)]: Done   3 out of   6 | elapsed:    1.5s remaining:    1.5s\n",
      "[Parallel(n_jobs=-1)]: Done   6 out of   6 | elapsed:    2.1s finished\n",
      "\n",
      "[2019-07-02 20:26:58] Features: 5/3 -- score: -0.230858853252[Parallel(n_jobs=-1)]: Done   3 out of   5 | elapsed:    1.5s remaining:    1.0s\n",
      "[Parallel(n_jobs=-1)]: Done   5 out of   5 | elapsed:    1.9s finished\n",
      "\n",
      "[2019-07-02 20:27:01] Features: 4/3 -- score: -0.234981508413[Parallel(n_jobs=-1)]: Done   2 out of   4 | elapsed:    1.3s remaining:    1.3s\n",
      "[Parallel(n_jobs=-1)]: Done   4 out of   4 | elapsed:    1.7s finished\n",
      "\n",
      "[2019-07-02 20:27:03] Features: 3/3 -- score: -0.24865244753"
     ]
    },
    {
     "data": {
      "text/plain": [
       "SequentialFeatureSelector(clone_estimator=True, cv=5,\n",
       "             estimator=LogisticRegression(C=1.0, class_weight=None, dual=False, fit_intercept=True,\n",
       "          intercept_scaling=1, max_iter=100, multi_class='ovr', n_jobs=1,\n",
       "          penalty='l2', random_state=17, solver='lbfgs', tol=0.0001,\n",
       "          verbose=0, warm_start=False),\n",
       "             floating=False, forward=False, k_features=3, n_jobs=-1,\n",
       "             pre_dispatch='2*n_jobs', scoring='neg_log_loss', verbose=2)"
      ]
     },
     "execution_count": 13,
     "metadata": {},
     "output_type": "execute_result"
    }
   ],
   "source": [
    "# pip install mlxtend\n",
    "from mlxtend.feature_selection import SequentialFeatureSelector\n",
    "\n",
    "selector = SequentialFeatureSelector(logit, scoring='neg_log_loss', \n",
    "                                     verbose=2, k_features=3, forward=False, n_jobs=-1)\n",
    "\n",
    "selector.fit(x_data, y_data)"
   ]
  }
 ],
 "metadata": {
  "kernelspec": {
   "display_name": "Python 3",
   "language": "python",
   "name": "python3"
  },
  "language_info": {
   "codemirror_mode": {
    "name": "ipython",
    "version": 3
   },
   "file_extension": ".py",
   "mimetype": "text/x-python",
   "name": "python",
   "nbconvert_exporter": "python",
   "pygments_lexer": "ipython3",
   "version": "3.6.2"
  }
 },
 "nbformat": 4,
 "nbformat_minor": 2
}
